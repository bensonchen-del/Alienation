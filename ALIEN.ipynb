{
 "cells": [
  {
   "cell_type": "raw",
   "id": "77c9a02e-d0d4-40b8-955e-804fd7f111f0",
   "metadata": {},
   "source": [
    "ALIEN ISOLATION INSPIRED PROJECT"
   ]
  },
  {
   "cell_type": "code",
   "execution_count": 8,
   "id": "7a6d263f-82c2-49f0-93fb-61aaeacdc293",
   "metadata": {},
   "outputs": [],
   "source": [
    "import math\n",
    "import sys\n",
    "import os\n",
    "from jupylet.sprite import Sprite\n",
    "from jupylet.label import Label\n",
    "from jupylet.app import App\n",
    "sys.path.insert(0, os.path.abspath('./..'))"
   ]
  },
  {
   "cell_type": "code",
   "execution_count": 9,
   "id": "b812f583-9139-48f8-ab55-46b8487977aa",
   "metadata": {},
   "outputs": [],
   "source": [
    "app = App(width=800, height=600)\n",
    "background = Sprite('images.png', scale=6)\n",
    "ship = Sprite('player.png', x=app.width/2, y=app.height/2, scale=0.5)"
   ]
  },
  {
   "cell_type": "code",
   "execution_count": 10,
   "id": "bbcfe8d4-8c79-43a1-9d52-02340069da85",
   "metadata": {},
   "outputs": [],
   "source": [
    "# 初始化鍵位狀態\n",
    "W = A = S = D = False\n",
    "Stealth = Run = False\n",
    "\n",
    "# 初始化速度\n",
    "speed = 1"
   ]
  },
  {
   "cell_type": "code",
   "execution_count": 11,
   "id": "fd33d503-37e0-4768-bf43-16203d48219a",
   "metadata": {},
   "outputs": [],
   "source": [
    "@app.run_me_every(1/60)\n",
    "def update_ship(ct, dt):\n",
    "\n",
    "    if Stealth:\n",
    "        ship.image = 'player_s.png'\n",
    "        speed = 0.5\n",
    "    elif Run:\n",
    "        ship.image = 'player_r.png'\n",
    "        speed = 2\n",
    "    else:\n",
    "        ship.image = 'player.png'\n",
    "        speed = 1\n",
    "        \n",
    "    if A:\n",
    "        ship.x -= 3 * speed\n",
    "    if D:\n",
    "        ship.x += 3 * speed\n",
    "    if W:\n",
    "        ship.y += 3 * speed\n",
    "    if S:\n",
    "        ship.y -= 3 * speed\n",
    "    \n",
    "    ship.wrap_position(app.width, app.height)"
   ]
  },
  {
   "cell_type": "code",
   "execution_count": 12,
   "id": "90ca0816-789c-4522-ae9b-4908ea2104a9",
   "metadata": {},
   "outputs": [],
   "source": [
    "@app.event\n",
    "def key_event(key, action, modifiers):\n",
    "    global W, A, D, S, Stealth, Run\n",
    "\n",
    "    keys = app.window.keys\n",
    "\n",
    "    if action == keys.ACTION_PRESS:\n",
    "        if key == keys.W:\n",
    "            W = True\n",
    "        if key == keys.A:\n",
    "            A = True\n",
    "        if key == keys.D:\n",
    "            D = True\n",
    "        if key == keys.S:\n",
    "            S = True\n",
    "        if key == keys.SPACE:\n",
    "            Run = True\n",
    "        if key == keys.C:\n",
    "            Stealth = not Stealth\n",
    "        \n",
    "\n",
    "    elif action == keys.ACTION_RELEASE:\n",
    "        if key == keys.W:\n",
    "            W = False\n",
    "        if key == keys.A:\n",
    "            A = False\n",
    "        if key == keys.D:\n",
    "            D = False\n",
    "        if key == keys.S:\n",
    "            S = False\n",
    "        if key == keys.SPACE:\n",
    "            Run = False"
   ]
  },
  {
   "cell_type": "code",
   "execution_count": 13,
   "id": "b0baf0de-762b-4dc1-a9df-6d92b43ad262",
   "metadata": {},
   "outputs": [],
   "source": [
    "# Update label with coordinates every 5 seconds\n",
    "@app.run_me_every(5.0)\n",
    "def update_label(ct, dt):\n",
    "    xy_label.text = f'X: {ship.x:.2f}, Y: {ship.y:.2f}'\n"
   ]
  },
  {
   "cell_type": "code",
   "execution_count": 16,
   "id": "6b2582c2-3911-40b2-b7ad-2aa608ed889e",
   "metadata": {},
   "outputs": [],
   "source": [
    "@app.event\n",
    "def render(ct,dt):\n",
    "    \n",
    "    app.window.clear()\n",
    "    xy_label.draw()\n",
    "    background.draw()\n",
    "    ship.draw()"
   ]
  },
  {
   "cell_type": "code",
   "execution_count": 17,
   "id": "d270fbf0-b575-4b14-b7c9-9bb5ab020562",
   "metadata": {},
   "outputs": [
    {
     "data": {
      "application/vnd.jupyter.widget-view+json": {
       "model_id": "ef02ae0bc0da464288ad0a765a7139e0",
       "version_major": 2,
       "version_minor": 0
      },
      "text/plain": [
       "Image(value=b'\\xff\\xd8\\xff\\xe0\\x00\\x10JFIF\\x00\\x01\\x01\\x00\\x00\\x01\\x00\\x01\\x00\\x00\\xff\\xdb\\x00C\\x00\\x05\\x03\\x0…"
      ]
     },
     "execution_count": 17,
     "metadata": {},
     "output_type": "execute_result"
    }
   ],
   "source": [
    "# 運行應用\n",
    "app.run()"
   ]
  },
  {
   "cell_type": "code",
   "execution_count": null,
   "id": "5b903b79-a64d-4cf5-85bb-a348c57be22c",
   "metadata": {},
   "outputs": [],
   "source": []
  },
  {
   "cell_type": "code",
   "execution_count": null,
   "id": "d0039e7b-a3ba-419a-af3e-cb2f8bfc7f24",
   "metadata": {},
   "outputs": [],
   "source": []
  },
  {
   "cell_type": "code",
   "execution_count": null,
   "id": "c6a36998-a513-4b29-8d41-e6faab19b0ff",
   "metadata": {},
   "outputs": [],
   "source": []
  },
  {
   "cell_type": "code",
   "execution_count": null,
   "id": "d9fb75a9-de32-49ef-ae48-a80a1ced7b7d",
   "metadata": {},
   "outputs": [],
   "source": []
  }
 ],
 "metadata": {
  "kernelspec": {
   "display_name": "Python 3 (ipykernel)",
   "language": "python",
   "name": "python3"
  },
  "language_info": {
   "codemirror_mode": {
    "name": "ipython",
    "version": 3
   },
   "file_extension": ".py",
   "mimetype": "text/x-python",
   "name": "python",
   "nbconvert_exporter": "python",
   "pygments_lexer": "ipython3",
   "version": "3.11.10"
  }
 },
 "nbformat": 4,
 "nbformat_minor": 5
}
